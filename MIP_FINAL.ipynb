{
 "cells": [
  {
   "cell_type": "code",
   "execution_count": 1,
   "metadata": {},
   "outputs": [
    {
     "name": "stderr",
     "output_type": "stream",
     "text": [
      "C:\\Users\\r09922110\\anaconda3\\envs\\ML\\lib\\site-packages\\tensorflow\\python\\framework\\dtypes.py:526: FutureWarning: Passing (type, 1) or '1type' as a synonym of type is deprecated; in a future version of numpy, it will be understood as (type, (1,)) / '(1,)type'.\n",
      "  _np_qint8 = np.dtype([(\"qint8\", np.int8, 1)])\n",
      "C:\\Users\\r09922110\\anaconda3\\envs\\ML\\lib\\site-packages\\tensorflow\\python\\framework\\dtypes.py:527: FutureWarning: Passing (type, 1) or '1type' as a synonym of type is deprecated; in a future version of numpy, it will be understood as (type, (1,)) / '(1,)type'.\n",
      "  _np_quint8 = np.dtype([(\"quint8\", np.uint8, 1)])\n",
      "C:\\Users\\r09922110\\anaconda3\\envs\\ML\\lib\\site-packages\\tensorflow\\python\\framework\\dtypes.py:528: FutureWarning: Passing (type, 1) or '1type' as a synonym of type is deprecated; in a future version of numpy, it will be understood as (type, (1,)) / '(1,)type'.\n",
      "  _np_qint16 = np.dtype([(\"qint16\", np.int16, 1)])\n",
      "C:\\Users\\r09922110\\anaconda3\\envs\\ML\\lib\\site-packages\\tensorflow\\python\\framework\\dtypes.py:529: FutureWarning: Passing (type, 1) or '1type' as a synonym of type is deprecated; in a future version of numpy, it will be understood as (type, (1,)) / '(1,)type'.\n",
      "  _np_quint16 = np.dtype([(\"quint16\", np.uint16, 1)])\n",
      "C:\\Users\\r09922110\\anaconda3\\envs\\ML\\lib\\site-packages\\tensorflow\\python\\framework\\dtypes.py:530: FutureWarning: Passing (type, 1) or '1type' as a synonym of type is deprecated; in a future version of numpy, it will be understood as (type, (1,)) / '(1,)type'.\n",
      "  _np_qint32 = np.dtype([(\"qint32\", np.int32, 1)])\n",
      "C:\\Users\\r09922110\\anaconda3\\envs\\ML\\lib\\site-packages\\tensorflow\\python\\framework\\dtypes.py:535: FutureWarning: Passing (type, 1) or '1type' as a synonym of type is deprecated; in a future version of numpy, it will be understood as (type, (1,)) / '(1,)type'.\n",
      "  np_resource = np.dtype([(\"resource\", np.ubyte, 1)])\n"
     ]
    }
   ],
   "source": [
    "from __future__ import print_function\n",
    "from tensorflow.keras.preprocessing.image import ImageDataGenerator\n",
    "import glob"
   ]
  },
  {
   "cell_type": "code",
   "execution_count": 20,
   "metadata": {},
   "outputs": [],
   "source": [
    "%matplotlib inline\n",
    "import matplotlib.pyplot as plt"
   ]
  },
  {
   "cell_type": "code",
   "execution_count": 2,
   "metadata": {},
   "outputs": [],
   "source": [
    "import skimage.transform as trans"
   ]
  },
  {
   "cell_type": "code",
   "execution_count": 3,
   "metadata": {},
   "outputs": [],
   "source": [
    "from cv2 import cv2"
   ]
  },
  {
   "cell_type": "code",
   "execution_count": 4,
   "metadata": {},
   "outputs": [],
   "source": [
    "from tensorflow.keras.models import *\n",
    "from tensorflow.keras.layers import *\n",
    "from tensorflow.keras.optimizers import *\n",
    "from tensorflow.keras.callbacks import ModelCheckpoint, LearningRateScheduler\n",
    "from tensorflow.keras import backend as keras"
   ]
  },
  {
   "cell_type": "code",
   "execution_count": 5,
   "metadata": {},
   "outputs": [],
   "source": [
    "import os\n",
    "import numpy as np \n",
    "import skimage.io as io\n",
    "from PIL import Image"
   ]
  },
  {
   "cell_type": "code",
   "execution_count": 6,
   "metadata": {},
   "outputs": [],
   "source": [
    "import copy"
   ]
  },
  {
   "cell_type": "markdown",
   "metadata": {},
   "source": [
    "# Model structure"
   ]
  },
  {
   "cell_type": "code",
   "execution_count": 7,
   "metadata": {},
   "outputs": [],
   "source": [
    "def unet_2(input_size=(256,256,1)):\n",
    "    inputs = Input(input_size)\n",
    "    \n",
    "    conv1 = Conv2D(32, (3, 3), activation='relu', padding='same')(inputs)\n",
    "    conv1 = Conv2D(32, (3, 3), activation='relu', padding='same')(conv1)\n",
    "    pool1 = MaxPooling2D(pool_size=(2, 2))(conv1)\n",
    "\n",
    "    conv2 = Conv2D(64, (3, 3), activation='relu', padding='same')(pool1)\n",
    "    conv2 = Conv2D(64, (3, 3), activation='relu', padding='same')(conv2)\n",
    "    pool2 = MaxPooling2D(pool_size=(2, 2))(conv2)\n",
    "\n",
    "    conv3 = Conv2D(128, (3, 3), activation='relu', padding='same')(pool2)\n",
    "    conv3 = Conv2D(128, (3, 3), activation='relu', padding='same')(conv3)\n",
    "    pool3 = MaxPooling2D(pool_size=(2, 2))(conv3)\n",
    "\n",
    "    conv4 = Conv2D(256, (3, 3), activation='relu', padding='same')(pool3)\n",
    "    conv4 = Conv2D(256, (3, 3), activation='relu', padding='same')(conv4)\n",
    "    pool4 = MaxPooling2D(pool_size=(2, 2))(conv4)\n",
    "\n",
    "    conv5 = Conv2D(512, (3, 3), activation='relu', padding='same')(pool4)\n",
    "    conv5 = Conv2D(512, (3, 3), activation='relu', padding='same')(conv5)\n",
    "\n",
    "    up6 = concatenate([Conv2DTranspose(256, (2, 2), strides=(2, 2), padding='same')(conv5), conv4], axis=3)\n",
    "    conv6 = Conv2D(256, (3, 3), activation='relu', padding='same')(up6)\n",
    "    conv6 = Conv2D(256, (3, 3), activation='relu', padding='same')(conv6)\n",
    "\n",
    "    up7 = concatenate([Conv2DTranspose(128, (2, 2), strides=(2, 2), padding='same')(conv6), conv3], axis=3)\n",
    "    conv7 = Conv2D(128, (3, 3), activation='relu', padding='same')(up7)\n",
    "    conv7 = Conv2D(128, (3, 3), activation='relu', padding='same')(conv7)\n",
    "\n",
    "    up8 = concatenate([Conv2DTranspose(64, (2, 2), strides=(2, 2), padding='same')(conv7), conv2], axis=3)\n",
    "    conv8 = Conv2D(64, (3, 3), activation='relu', padding='same')(up8)\n",
    "    conv8 = Conv2D(64, (3, 3), activation='relu', padding='same')(conv8)\n",
    "\n",
    "    up9 = concatenate([Conv2DTranspose(32, (2, 2), strides=(2, 2), padding='same')(conv8), conv1], axis=3)\n",
    "    conv9 = Conv2D(32, (3, 3), activation='relu', padding='same')(up9)\n",
    "    conv9 = Conv2D(32, (3, 3), activation='relu', padding='same')(conv9)\n",
    "\n",
    "    conv10 = Conv2D(1, (1, 1), activation='sigmoid')(conv9)\n",
    "\n",
    "    return Model(inputs=[inputs], outputs=[conv10])"
   ]
  },
  {
   "cell_type": "markdown",
   "metadata": {},
   "source": [
    "# Dice score function and Dice loss"
   ]
  },
  {
   "cell_type": "code",
   "execution_count": 8,
   "metadata": {},
   "outputs": [],
   "source": [
    "# metric\n",
    "def dice_coef(y_true, y_pred):\n",
    "    y_true_f = keras.flatten(y_true)\n",
    "    y_pred_f = keras.flatten(y_pred)\n",
    "    intersection = keras.sum(y_true_f * y_pred_f)\n",
    "    # 2*(TP+1)/(TP+FN+TP+FP+1)\n",
    "    return (2. * intersection + 1) / (keras.sum(y_true_f) + keras.sum(y_pred_f) + 1)\n",
    "\n",
    "def dice_coef_loss(y_true, y_pred):\n",
    "    return -dice_coef(y_true, y_pred)"
   ]
  },
  {
   "cell_type": "markdown",
   "metadata": {},
   "source": [
    "# auxiliary function"
   ]
  },
  {
   "cell_type": "code",
   "execution_count": 9,
   "metadata": {},
   "outputs": [],
   "source": [
    "def adjustData(img,mask,flag_multi_class,num_class):\n",
    "    if(flag_multi_class):\n",
    "        img = img / 255\n",
    "        mask = mask[:,:,:,0] if(len(mask.shape) == 4) else mask[:,:,0]\n",
    "        new_mask = np.zeros(mask.shape + (num_class,))\n",
    "        for i in range(num_class):\n",
    "            #for one pixel in the image, find the class in mask and convert it into one-hot vector\n",
    "            #index = np.where(mask == i)\n",
    "            #index_mask = (index[0],index[1],index[2],np.zeros(len(index[0]),dtype = np.int64) + i) if (len(mask.shape) == 4) else (index[0],index[1],np.zeros(len(index[0]),dtype = np.int64) + i)\n",
    "            #new_mask[index_mask] = 1\n",
    "            new_mask[mask == i,i] = 1\n",
    "        new_mask = np.reshape(new_mask,(new_mask.shape[0],new_mask.shape[1]*new_mask.shape[2],new_mask.shape[3])) if flag_multi_class else np.reshape(new_mask,(new_mask.shape[0]*new_mask.shape[1],new_mask.shape[2]))\n",
    "        mask = new_mask\n",
    "    elif(np.max(img) > 1):\n",
    "        img = img / 255\n",
    "        mask = mask /255\n",
    "        mask[mask > 0.5] = 1\n",
    "        mask[mask <= 0.5] = 0\n",
    "    return (img,mask)\n",
    "\n",
    "def geneTrainNpy(image_path,mask_path,image_prefix,flag_multi_class = False,num_class = 2):\n",
    "    image_name_arr = glob.glob(os.path.join(image_path,\"%s*.png\"%image_prefix))\n",
    "    image_arr = []\n",
    "    mask_arr = []\n",
    "    for index,item in enumerate(image_name_arr):\n",
    "        try:\n",
    "            img = cv2.imread(item,cv2.IMREAD_GRAYSCALE)\n",
    "            img = cv2.resize(img,(256,256))\n",
    "            img = np.reshape(img,img.shape + (1,))\n",
    "            mask = cv2.imread(item.replace(image_path,mask_path).replace('.png','_mask.png'),cv2.IMREAD_GRAYSCALE)\n",
    "            mask = cv2.resize(mask,(256,256))\n",
    "            mask = np.reshape(mask,mask.shape + (1,))\n",
    "            img,mask = adjustData(img,mask,flag_multi_class,num_class)\n",
    "            image_arr.append(img)\n",
    "            mask_arr.append(mask)\n",
    "        except:\n",
    "            print(item,'no mask')\n",
    "    image_arr = np.array(image_arr)\n",
    "    mask_arr = np.array(mask_arr)\n",
    "    return image_arr,mask_arr\n",
    "\n",
    "\n",
    "def labelVisualize(num_class,color_dict,img):\n",
    "    img = img[:,:,0] if len(img.shape) == 3 else img\n",
    "    img_out = np.zeros(img.shape + (3,))\n",
    "    for i in range(num_class):\n",
    "        img_out[img == i,:] = color_dict[i]\n",
    "    return img_out / 255\n",
    "\n",
    "\n",
    "\n",
    "def saveResult(save_path,npyfile,flag_multi_class = False,num_class = 2):\n",
    "    for i,item in enumerate(npyfile):\n",
    "        img = labelVisualize(num_class,COLOR_DICT,item) if flag_multi_class else item[:,:,0]\n",
    "        io.imsave(os.path.join(save_path,\"%d_predict.png\"%i),img)"
   ]
  },
  {
   "cell_type": "code",
   "execution_count": 10,
   "metadata": {
    "scrolled": true
   },
   "outputs": [
    {
     "name": "stdout",
     "output_type": "stream",
     "text": [
      "C:\\Users\\r09922110\\mip\\lung_dataset\\Lung Segmentation\\CXR_png\\CHNCXR_0025_0.png no mask\n",
      "C:\\Users\\r09922110\\mip\\lung_dataset\\Lung Segmentation\\CXR_png\\CHNCXR_0036_0.png no mask\n",
      "C:\\Users\\r09922110\\mip\\lung_dataset\\Lung Segmentation\\CXR_png\\CHNCXR_0037_0.png no mask\n",
      "C:\\Users\\r09922110\\mip\\lung_dataset\\Lung Segmentation\\CXR_png\\CHNCXR_0038_0.png no mask\n",
      "C:\\Users\\r09922110\\mip\\lung_dataset\\Lung Segmentation\\CXR_png\\CHNCXR_0039_0.png no mask\n",
      "C:\\Users\\r09922110\\mip\\lung_dataset\\Lung Segmentation\\CXR_png\\CHNCXR_0040_0.png no mask\n",
      "C:\\Users\\r09922110\\mip\\lung_dataset\\Lung Segmentation\\CXR_png\\CHNCXR_0065_0.png no mask\n",
      "C:\\Users\\r09922110\\mip\\lung_dataset\\Lung Segmentation\\CXR_png\\CHNCXR_0181_0.png no mask\n",
      "C:\\Users\\r09922110\\mip\\lung_dataset\\Lung Segmentation\\CXR_png\\CHNCXR_0182_0.png no mask\n",
      "C:\\Users\\r09922110\\mip\\lung_dataset\\Lung Segmentation\\CXR_png\\CHNCXR_0183_0.png no mask\n",
      "C:\\Users\\r09922110\\mip\\lung_dataset\\Lung Segmentation\\CXR_png\\CHNCXR_0184_0.png no mask\n",
      "C:\\Users\\r09922110\\mip\\lung_dataset\\Lung Segmentation\\CXR_png\\CHNCXR_0185_0.png no mask\n",
      "C:\\Users\\r09922110\\mip\\lung_dataset\\Lung Segmentation\\CXR_png\\CHNCXR_0186_0.png no mask\n",
      "C:\\Users\\r09922110\\mip\\lung_dataset\\Lung Segmentation\\CXR_png\\CHNCXR_0187_0.png no mask\n",
      "C:\\Users\\r09922110\\mip\\lung_dataset\\Lung Segmentation\\CXR_png\\CHNCXR_0188_0.png no mask\n",
      "C:\\Users\\r09922110\\mip\\lung_dataset\\Lung Segmentation\\CXR_png\\CHNCXR_0189_0.png no mask\n",
      "C:\\Users\\r09922110\\mip\\lung_dataset\\Lung Segmentation\\CXR_png\\CHNCXR_0190_0.png no mask\n",
      "C:\\Users\\r09922110\\mip\\lung_dataset\\Lung Segmentation\\CXR_png\\CHNCXR_0191_0.png no mask\n",
      "C:\\Users\\r09922110\\mip\\lung_dataset\\Lung Segmentation\\CXR_png\\CHNCXR_0192_0.png no mask\n",
      "C:\\Users\\r09922110\\mip\\lung_dataset\\Lung Segmentation\\CXR_png\\CHNCXR_0193_0.png no mask\n",
      "C:\\Users\\r09922110\\mip\\lung_dataset\\Lung Segmentation\\CXR_png\\CHNCXR_0194_0.png no mask\n",
      "C:\\Users\\r09922110\\mip\\lung_dataset\\Lung Segmentation\\CXR_png\\CHNCXR_0195_0.png no mask\n",
      "C:\\Users\\r09922110\\mip\\lung_dataset\\Lung Segmentation\\CXR_png\\CHNCXR_0196_0.png no mask\n",
      "C:\\Users\\r09922110\\mip\\lung_dataset\\Lung Segmentation\\CXR_png\\CHNCXR_0197_0.png no mask\n",
      "C:\\Users\\r09922110\\mip\\lung_dataset\\Lung Segmentation\\CXR_png\\CHNCXR_0198_0.png no mask\n",
      "C:\\Users\\r09922110\\mip\\lung_dataset\\Lung Segmentation\\CXR_png\\CHNCXR_0199_0.png no mask\n",
      "C:\\Users\\r09922110\\mip\\lung_dataset\\Lung Segmentation\\CXR_png\\CHNCXR_0200_0.png no mask\n",
      "C:\\Users\\r09922110\\mip\\lung_dataset\\Lung Segmentation\\CXR_png\\CHNCXR_0201_0.png no mask\n",
      "C:\\Users\\r09922110\\mip\\lung_dataset\\Lung Segmentation\\CXR_png\\CHNCXR_0202_0.png no mask\n",
      "C:\\Users\\r09922110\\mip\\lung_dataset\\Lung Segmentation\\CXR_png\\CHNCXR_0203_0.png no mask\n",
      "C:\\Users\\r09922110\\mip\\lung_dataset\\Lung Segmentation\\CXR_png\\CHNCXR_0204_0.png no mask\n",
      "C:\\Users\\r09922110\\mip\\lung_dataset\\Lung Segmentation\\CXR_png\\CHNCXR_0205_0.png no mask\n",
      "C:\\Users\\r09922110\\mip\\lung_dataset\\Lung Segmentation\\CXR_png\\CHNCXR_0206_0.png no mask\n",
      "C:\\Users\\r09922110\\mip\\lung_dataset\\Lung Segmentation\\CXR_png\\CHNCXR_0207_0.png no mask\n",
      "C:\\Users\\r09922110\\mip\\lung_dataset\\Lung Segmentation\\CXR_png\\CHNCXR_0208_0.png no mask\n",
      "C:\\Users\\r09922110\\mip\\lung_dataset\\Lung Segmentation\\CXR_png\\CHNCXR_0209_0.png no mask\n",
      "C:\\Users\\r09922110\\mip\\lung_dataset\\Lung Segmentation\\CXR_png\\CHNCXR_0210_0.png no mask\n",
      "C:\\Users\\r09922110\\mip\\lung_dataset\\Lung Segmentation\\CXR_png\\CHNCXR_0211_0.png no mask\n",
      "C:\\Users\\r09922110\\mip\\lung_dataset\\Lung Segmentation\\CXR_png\\CHNCXR_0212_0.png no mask\n",
      "C:\\Users\\r09922110\\mip\\lung_dataset\\Lung Segmentation\\CXR_png\\CHNCXR_0213_0.png no mask\n",
      "C:\\Users\\r09922110\\mip\\lung_dataset\\Lung Segmentation\\CXR_png\\CHNCXR_0214_0.png no mask\n",
      "C:\\Users\\r09922110\\mip\\lung_dataset\\Lung Segmentation\\CXR_png\\CHNCXR_0215_0.png no mask\n",
      "C:\\Users\\r09922110\\mip\\lung_dataset\\Lung Segmentation\\CXR_png\\CHNCXR_0216_0.png no mask\n",
      "C:\\Users\\r09922110\\mip\\lung_dataset\\Lung Segmentation\\CXR_png\\CHNCXR_0217_0.png no mask\n",
      "C:\\Users\\r09922110\\mip\\lung_dataset\\Lung Segmentation\\CXR_png\\CHNCXR_0218_0.png no mask\n",
      "C:\\Users\\r09922110\\mip\\lung_dataset\\Lung Segmentation\\CXR_png\\CHNCXR_0219_0.png no mask\n",
      "C:\\Users\\r09922110\\mip\\lung_dataset\\Lung Segmentation\\CXR_png\\CHNCXR_0220_0.png no mask\n",
      "C:\\Users\\r09922110\\mip\\lung_dataset\\Lung Segmentation\\CXR_png\\CHNCXR_0336_1.png no mask\n",
      "C:\\Users\\r09922110\\mip\\lung_dataset\\Lung Segmentation\\CXR_png\\CHNCXR_0341_1.png no mask\n",
      "C:\\Users\\r09922110\\mip\\lung_dataset\\Lung Segmentation\\CXR_png\\CHNCXR_0342_1.png no mask\n",
      "C:\\Users\\r09922110\\mip\\lung_dataset\\Lung Segmentation\\CXR_png\\CHNCXR_0343_1.png no mask\n",
      "C:\\Users\\r09922110\\mip\\lung_dataset\\Lung Segmentation\\CXR_png\\CHNCXR_0344_1.png no mask\n",
      "C:\\Users\\r09922110\\mip\\lung_dataset\\Lung Segmentation\\CXR_png\\CHNCXR_0345_1.png no mask\n",
      "C:\\Users\\r09922110\\mip\\lung_dataset\\Lung Segmentation\\CXR_png\\CHNCXR_0346_1.png no mask\n",
      "C:\\Users\\r09922110\\mip\\lung_dataset\\Lung Segmentation\\CXR_png\\CHNCXR_0347_1.png no mask\n",
      "C:\\Users\\r09922110\\mip\\lung_dataset\\Lung Segmentation\\CXR_png\\CHNCXR_0348_1.png no mask\n",
      "C:\\Users\\r09922110\\mip\\lung_dataset\\Lung Segmentation\\CXR_png\\CHNCXR_0349_1.png no mask\n",
      "C:\\Users\\r09922110\\mip\\lung_dataset\\Lung Segmentation\\CXR_png\\CHNCXR_0350_1.png no mask\n",
      "C:\\Users\\r09922110\\mip\\lung_dataset\\Lung Segmentation\\CXR_png\\CHNCXR_0351_1.png no mask\n",
      "C:\\Users\\r09922110\\mip\\lung_dataset\\Lung Segmentation\\CXR_png\\CHNCXR_0352_1.png no mask\n",
      "C:\\Users\\r09922110\\mip\\lung_dataset\\Lung Segmentation\\CXR_png\\CHNCXR_0353_1.png no mask\n",
      "C:\\Users\\r09922110\\mip\\lung_dataset\\Lung Segmentation\\CXR_png\\CHNCXR_0354_1.png no mask\n",
      "C:\\Users\\r09922110\\mip\\lung_dataset\\Lung Segmentation\\CXR_png\\CHNCXR_0355_1.png no mask\n",
      "C:\\Users\\r09922110\\mip\\lung_dataset\\Lung Segmentation\\CXR_png\\CHNCXR_0356_1.png no mask\n",
      "C:\\Users\\r09922110\\mip\\lung_dataset\\Lung Segmentation\\CXR_png\\CHNCXR_0357_1.png no mask\n",
      "C:\\Users\\r09922110\\mip\\lung_dataset\\Lung Segmentation\\CXR_png\\CHNCXR_0358_1.png no mask\n",
      "C:\\Users\\r09922110\\mip\\lung_dataset\\Lung Segmentation\\CXR_png\\CHNCXR_0359_1.png no mask\n",
      "C:\\Users\\r09922110\\mip\\lung_dataset\\Lung Segmentation\\CXR_png\\CHNCXR_0360_1.png no mask\n",
      "C:\\Users\\r09922110\\mip\\lung_dataset\\Lung Segmentation\\CXR_png\\CHNCXR_0481_1.png no mask\n",
      "C:\\Users\\r09922110\\mip\\lung_dataset\\Lung Segmentation\\CXR_png\\CHNCXR_0482_1.png no mask\n",
      "C:\\Users\\r09922110\\mip\\lung_dataset\\Lung Segmentation\\CXR_png\\CHNCXR_0483_1.png no mask\n",
      "C:\\Users\\r09922110\\mip\\lung_dataset\\Lung Segmentation\\CXR_png\\CHNCXR_0484_1.png no mask\n",
      "C:\\Users\\r09922110\\mip\\lung_dataset\\Lung Segmentation\\CXR_png\\CHNCXR_0485_1.png no mask\n",
      "C:\\Users\\r09922110\\mip\\lung_dataset\\Lung Segmentation\\CXR_png\\CHNCXR_0486_1.png no mask\n",
      "C:\\Users\\r09922110\\mip\\lung_dataset\\Lung Segmentation\\CXR_png\\CHNCXR_0487_1.png no mask\n",
      "C:\\Users\\r09922110\\mip\\lung_dataset\\Lung Segmentation\\CXR_png\\CHNCXR_0488_1.png no mask\n",
      "C:\\Users\\r09922110\\mip\\lung_dataset\\Lung Segmentation\\CXR_png\\CHNCXR_0489_1.png no mask\n",
      "C:\\Users\\r09922110\\mip\\lung_dataset\\Lung Segmentation\\CXR_png\\CHNCXR_0490_1.png no mask\n",
      "C:\\Users\\r09922110\\mip\\lung_dataset\\Lung Segmentation\\CXR_png\\CHNCXR_0491_1.png no mask\n",
      "C:\\Users\\r09922110\\mip\\lung_dataset\\Lung Segmentation\\CXR_png\\CHNCXR_0492_1.png no mask\n",
      "C:\\Users\\r09922110\\mip\\lung_dataset\\Lung Segmentation\\CXR_png\\CHNCXR_0493_1.png no mask\n",
      "C:\\Users\\r09922110\\mip\\lung_dataset\\Lung Segmentation\\CXR_png\\CHNCXR_0494_1.png no mask\n",
      "C:\\Users\\r09922110\\mip\\lung_dataset\\Lung Segmentation\\CXR_png\\CHNCXR_0495_1.png no mask\n",
      "C:\\Users\\r09922110\\mip\\lung_dataset\\Lung Segmentation\\CXR_png\\CHNCXR_0496_1.png no mask\n",
      "C:\\Users\\r09922110\\mip\\lung_dataset\\Lung Segmentation\\CXR_png\\CHNCXR_0497_1.png no mask\n",
      "C:\\Users\\r09922110\\mip\\lung_dataset\\Lung Segmentation\\CXR_png\\CHNCXR_0498_1.png no mask\n",
      "C:\\Users\\r09922110\\mip\\lung_dataset\\Lung Segmentation\\CXR_png\\CHNCXR_0499_1.png no mask\n",
      "C:\\Users\\r09922110\\mip\\lung_dataset\\Lung Segmentation\\CXR_png\\CHNCXR_0500_1.png no mask\n",
      "C:\\Users\\r09922110\\mip\\lung_dataset\\Lung Segmentation\\CXR_png\\CHNCXR_0502_1.png no mask\n",
      "C:\\Users\\r09922110\\mip\\lung_dataset\\Lung Segmentation\\CXR_png\\CHNCXR_0505_1.png no mask\n",
      "C:\\Users\\r09922110\\mip\\lung_dataset\\Lung Segmentation\\CXR_png\\CHNCXR_0560_1.png no mask\n",
      "C:\\Users\\r09922110\\mip\\lung_dataset\\Lung Segmentation\\CXR_png\\CHNCXR_0561_1.png no mask\n",
      "C:\\Users\\r09922110\\mip\\lung_dataset\\Lung Segmentation\\CXR_png\\CHNCXR_0562_1.png no mask\n",
      "C:\\Users\\r09922110\\mip\\lung_dataset\\Lung Segmentation\\CXR_png\\CHNCXR_0563_1.png no mask\n"
     ]
    },
    {
     "name": "stdout",
     "output_type": "stream",
     "text": [
      "C:\\Users\\r09922110\\mip\\lung_dataset\\Lung Segmentation\\CXR_png\\CHNCXR_0564_1.png no mask\n",
      "C:\\Users\\r09922110\\mip\\lung_dataset\\Lung Segmentation\\CXR_png\\CHNCXR_0565_1.png no mask\n"
     ]
    }
   ],
   "source": [
    "#data load in\n",
    "train_image_arr,train_mask_arr = geneTrainNpy(r\"C:\\Users\\r09922110\\mip\\lung_dataset\\Lung Segmentation\\CXR_png\",r\"C:\\Users\\r09922110\\mip\\lung_dataset\\Lung Segmentation\\masks\",image_prefix='CHNCXR')"
   ]
  },
  {
   "cell_type": "code",
   "execution_count": 11,
   "metadata": {},
   "outputs": [],
   "source": [
    "test_image_arr,test_mask_arr = geneTrainNpy(r\"C:\\Users\\r09922110\\mip\\lung_dataset\\Lung Segmentation\\CXR_png\",r\"C:\\Users\\r09922110\\mip\\lung_dataset\\Lung Segmentation\\masks\",image_prefix='MCUCXR')"
   ]
  },
  {
   "cell_type": "code",
   "execution_count": 12,
   "metadata": {},
   "outputs": [
    {
     "data": {
      "text/plain": [
       "(566, 256, 256, 1)"
      ]
     },
     "execution_count": 12,
     "metadata": {},
     "output_type": "execute_result"
    }
   ],
   "source": [
    "train_image_arr.shape"
   ]
  },
  {
   "cell_type": "code",
   "execution_count": 13,
   "metadata": {},
   "outputs": [
    {
     "data": {
      "text/plain": [
       "(138, 256, 256, 1)"
      ]
     },
     "execution_count": 13,
     "metadata": {},
     "output_type": "execute_result"
    }
   ],
   "source": [
    "test_image_arr.shape"
   ]
  },
  {
   "cell_type": "markdown",
   "metadata": {},
   "source": [
    "# training"
   ]
  },
  {
   "cell_type": "code",
   "execution_count": 286,
   "metadata": {},
   "outputs": [],
   "source": [
    "model_unet = unet_2()\n",
    "model_unet.compile(optimizer = Adam(lr = 1e-5), loss = dice_coef_loss, metrics = [dice_coef,'binary_accuracy'])"
   ]
  },
  {
   "cell_type": "code",
   "execution_count": 287,
   "metadata": {},
   "outputs": [],
   "source": [
    "from tensorflow.keras.utils import plot_model\n",
    "plot_model(model_unet,to_file='./unet_2.jpg',show_shapes=True)"
   ]
  },
  {
   "cell_type": "code",
   "execution_count": 288,
   "metadata": {},
   "outputs": [
    {
     "name": "stdout",
     "output_type": "stream",
     "text": [
      "__________________________________________________________________________________________________\n",
      "Layer (type)                    Output Shape         Param #     Connected to                     \n",
      "==================================================================================================\n",
      "input_4 (InputLayer)            (None, 256, 256, 1)  0                                            \n",
      "__________________________________________________________________________________________________\n",
      "conv2d_54 (Conv2D)              (None, 256, 256, 32) 320         input_4[0][0]                    \n",
      "__________________________________________________________________________________________________\n",
      "conv2d_55 (Conv2D)              (None, 256, 256, 32) 9248        conv2d_54[0][0]                  \n",
      "__________________________________________________________________________________________________\n",
      "max_pooling2d_12 (MaxPooling2D) (None, 128, 128, 32) 0           conv2d_55[0][0]                  \n",
      "__________________________________________________________________________________________________\n",
      "conv2d_56 (Conv2D)              (None, 128, 128, 64) 18496       max_pooling2d_12[0][0]           \n",
      "__________________________________________________________________________________________________\n",
      "conv2d_57 (Conv2D)              (None, 128, 128, 64) 36928       conv2d_56[0][0]                  \n",
      "__________________________________________________________________________________________________\n",
      "max_pooling2d_13 (MaxPooling2D) (None, 64, 64, 64)   0           conv2d_57[0][0]                  \n",
      "__________________________________________________________________________________________________\n",
      "conv2d_58 (Conv2D)              (None, 64, 64, 128)  73856       max_pooling2d_13[0][0]           \n",
      "__________________________________________________________________________________________________\n",
      "conv2d_59 (Conv2D)              (None, 64, 64, 128)  147584      conv2d_58[0][0]                  \n",
      "__________________________________________________________________________________________________\n",
      "max_pooling2d_14 (MaxPooling2D) (None, 32, 32, 128)  0           conv2d_59[0][0]                  \n",
      "__________________________________________________________________________________________________\n",
      "conv2d_60 (Conv2D)              (None, 32, 32, 256)  295168      max_pooling2d_14[0][0]           \n",
      "__________________________________________________________________________________________________\n",
      "conv2d_61 (Conv2D)              (None, 32, 32, 256)  590080      conv2d_60[0][0]                  \n",
      "__________________________________________________________________________________________________\n",
      "max_pooling2d_15 (MaxPooling2D) (None, 16, 16, 256)  0           conv2d_61[0][0]                  \n",
      "__________________________________________________________________________________________________\n",
      "conv2d_62 (Conv2D)              (None, 16, 16, 512)  1180160     max_pooling2d_15[0][0]           \n",
      "__________________________________________________________________________________________________\n",
      "conv2d_63 (Conv2D)              (None, 16, 16, 512)  2359808     conv2d_62[0][0]                  \n",
      "__________________________________________________________________________________________________\n",
      "conv2d_transpose_4 (Conv2DTrans (None, 32, 32, 256)  524544      conv2d_63[0][0]                  \n",
      "__________________________________________________________________________________________________\n",
      "concatenate_9 (Concatenate)     (None, 32, 32, 512)  0           conv2d_transpose_4[0][0]         \n",
      "                                                                 conv2d_61[0][0]                  \n",
      "__________________________________________________________________________________________________\n",
      "conv2d_64 (Conv2D)              (None, 32, 32, 256)  1179904     concatenate_9[0][0]              \n",
      "__________________________________________________________________________________________________\n",
      "conv2d_65 (Conv2D)              (None, 32, 32, 256)  590080      conv2d_64[0][0]                  \n",
      "__________________________________________________________________________________________________\n",
      "conv2d_transpose_5 (Conv2DTrans (None, 64, 64, 128)  131200      conv2d_65[0][0]                  \n",
      "__________________________________________________________________________________________________\n",
      "concatenate_10 (Concatenate)    (None, 64, 64, 256)  0           conv2d_transpose_5[0][0]         \n",
      "                                                                 conv2d_59[0][0]                  \n",
      "__________________________________________________________________________________________________\n",
      "conv2d_66 (Conv2D)              (None, 64, 64, 128)  295040      concatenate_10[0][0]             \n",
      "__________________________________________________________________________________________________\n",
      "conv2d_67 (Conv2D)              (None, 64, 64, 128)  147584      conv2d_66[0][0]                  \n",
      "__________________________________________________________________________________________________\n",
      "conv2d_transpose_6 (Conv2DTrans (None, 128, 128, 64) 32832       conv2d_67[0][0]                  \n",
      "__________________________________________________________________________________________________\n",
      "concatenate_11 (Concatenate)    (None, 128, 128, 128 0           conv2d_transpose_6[0][0]         \n",
      "                                                                 conv2d_57[0][0]                  \n",
      "__________________________________________________________________________________________________\n",
      "conv2d_68 (Conv2D)              (None, 128, 128, 64) 73792       concatenate_11[0][0]             \n",
      "__________________________________________________________________________________________________\n",
      "conv2d_69 (Conv2D)              (None, 128, 128, 64) 36928       conv2d_68[0][0]                  \n",
      "__________________________________________________________________________________________________\n",
      "conv2d_transpose_7 (Conv2DTrans (None, 256, 256, 32) 8224        conv2d_69[0][0]                  \n",
      "__________________________________________________________________________________________________\n",
      "concatenate_12 (Concatenate)    (None, 256, 256, 64) 0           conv2d_transpose_7[0][0]         \n",
      "                                                                 conv2d_55[0][0]                  \n",
      "__________________________________________________________________________________________________\n",
      "conv2d_70 (Conv2D)              (None, 256, 256, 32) 18464       concatenate_12[0][0]             \n",
      "__________________________________________________________________________________________________\n",
      "conv2d_71 (Conv2D)              (None, 256, 256, 32) 9248        conv2d_70[0][0]                  \n",
      "__________________________________________________________________________________________________\n",
      "conv2d_72 (Conv2D)              (None, 256, 256, 1)  33          conv2d_71[0][0]                  \n",
      "==================================================================================================\n",
      "Total params: 7,759,521\n",
      "Trainable params: 7,759,521\n",
      "Non-trainable params: 0\n",
      "__________________________________________________________________________________________________\n"
     ]
    }
   ],
   "source": [
    "model_unet.summary()"
   ]
  },
  {
   "cell_type": "code",
   "execution_count": 289,
   "metadata": {
    "scrolled": true
   },
   "outputs": [
    {
     "name": "stdout",
     "output_type": "stream",
     "text": [
      "Train on 452 samples, validate on 114 samples\n",
      "Epoch 1/100\n",
      "450/452 [============================>.] - ETA: 0s - loss: -0.3508 - dice_coef: 0.3508 - binary_accuracy: 0.2488\n",
      "Epoch 00001: val_loss improved from inf to -0.44189, saving model to unet_lung_seg_2_epoch_100.hdf5\n",
      "452/452 [==============================] - 9s 20ms/sample - loss: -0.3509 - dice_coef: 0.3509 - binary_accuracy: 0.2487 - val_loss: -0.4419 - val_dice_coef: 0.4419 - val_binary_accuracy: 0.2710\n",
      "Epoch 2/100\n",
      "450/452 [============================>.] - ETA: 0s - loss: -0.6407 - dice_coef: 0.6407 - binary_accuracy: 0.7186\n",
      "Epoch 00002: val_loss improved from -0.44189 to -0.78345, saving model to unet_lung_seg_2_epoch_100.hdf5\n",
      "452/452 [==============================] - 6s 13ms/sample - loss: -0.6416 - dice_coef: 0.6416 - binary_accuracy: 0.7195 - val_loss: -0.7835 - val_dice_coef: 0.7835 - val_binary_accuracy: 0.8769\n",
      "Epoch 3/100\n",
      "450/452 [============================>.] - ETA: 0s - loss: -0.8078 - dice_coef: 0.8078 - binary_accuracy: 0.9074\n",
      "Epoch 00003: val_loss improved from -0.78345 to -0.86435, saving model to unet_lung_seg_2_epoch_100.hdf5\n",
      "452/452 [==============================] - 7s 15ms/sample - loss: -0.8080 - dice_coef: 0.8080 - binary_accuracy: 0.9075 - val_loss: -0.8643 - val_dice_coef: 0.8643 - val_binary_accuracy: 0.9314\n",
      "Epoch 4/100\n",
      "448/452 [============================>.] - ETA: 0s - loss: -0.8600 - dice_coef: 0.8600 - binary_accuracy: 0.9329\n",
      "Epoch 00004: val_loss improved from -0.86435 to -0.88937, saving model to unet_lung_seg_2_epoch_100.hdf5\n",
      "452/452 [==============================] - 7s 15ms/sample - loss: -0.8599 - dice_coef: 0.8599 - binary_accuracy: 0.9329 - val_loss: -0.8894 - val_dice_coef: 0.8894 - val_binary_accuracy: 0.9420\n",
      "Epoch 5/100\n",
      "450/452 [============================>.] - ETA: 0s - loss: -0.8762 - dice_coef: 0.8762 - binary_accuracy: 0.9403\n",
      "Epoch 00005: val_loss improved from -0.88937 to -0.89448, saving model to unet_lung_seg_2_epoch_100.hdf5\n",
      "452/452 [==============================] - 7s 15ms/sample - loss: -0.8760 - dice_coef: 0.8760 - binary_accuracy: 0.9403 - val_loss: -0.8945 - val_dice_coef: 0.8945 - val_binary_accuracy: 0.9447\n",
      "Epoch 6/100\n",
      "450/452 [============================>.] - ETA: 0s - loss: -0.8859 - dice_coef: 0.8859 - binary_accuracy: 0.9450\n",
      "Epoch 00006: val_loss improved from -0.89448 to -0.90046, saving model to unet_lung_seg_2_epoch_100.hdf5\n",
      "452/452 [==============================] - 7s 15ms/sample - loss: -0.8859 - dice_coef: 0.8859 - binary_accuracy: 0.9451 - val_loss: -0.9005 - val_dice_coef: 0.9005 - val_binary_accuracy: 0.9461\n",
      "Epoch 7/100\n",
      "450/452 [============================>.] - ETA: 0s - loss: -0.8941 - dice_coef: 0.8941 - binary_accuracy: 0.9488\n",
      "Epoch 00007: val_loss improved from -0.90046 to -0.90711, saving model to unet_lung_seg_2_epoch_100.hdf5\n",
      "452/452 [==============================] - 7s 15ms/sample - loss: -0.8941 - dice_coef: 0.8941 - binary_accuracy: 0.9488 - val_loss: -0.9071 - val_dice_coef: 0.9071 - val_binary_accuracy: 0.9506\n",
      "Epoch 8/100\n",
      "450/452 [============================>.] - ETA: 0s - loss: -0.8982 - dice_coef: 0.8982 - binary_accuracy: 0.9508\n",
      "Epoch 00008: val_loss did not improve from -0.90711\n",
      "452/452 [==============================] - 7s 15ms/sample - loss: -0.8981 - dice_coef: 0.8981 - binary_accuracy: 0.9508 - val_loss: -0.8983 - val_dice_coef: 0.8983 - val_binary_accuracy: 0.9482\n",
      "Epoch 9/100\n",
      "450/452 [============================>.] - ETA: 0s - loss: -0.9015 - dice_coef: 0.9015 - binary_accuracy: 0.9523\n",
      "Epoch 00009: val_loss improved from -0.90711 to -0.90749, saving model to unet_lung_seg_2_epoch_100.hdf5\n",
      "452/452 [==============================] - 7s 15ms/sample - loss: -0.9014 - dice_coef: 0.9014 - binary_accuracy: 0.9523 - val_loss: -0.9075 - val_dice_coef: 0.9075 - val_binary_accuracy: 0.9491\n",
      "Epoch 10/100\n",
      "450/452 [============================>.] - ETA: 0s - loss: -0.9036 - dice_coef: 0.9036 - binary_accuracy: 0.9533\n",
      "Epoch 00010: val_loss improved from -0.90749 to -0.91584, saving model to unet_lung_seg_2_epoch_100.hdf5\n",
      "452/452 [==============================] - 7s 15ms/sample - loss: -0.9037 - dice_coef: 0.9037 - binary_accuracy: 0.9533 - val_loss: -0.9158 - val_dice_coef: 0.9158 - val_binary_accuracy: 0.9559\n",
      "Epoch 11/100\n",
      "450/452 [============================>.] - ETA: 0s - loss: -0.9087 - dice_coef: 0.9087 - binary_accuracy: 0.9558\n",
      "Epoch 00011: val_loss did not improve from -0.91584\n",
      "452/452 [==============================] - 7s 15ms/sample - loss: -0.9086 - dice_coef: 0.9086 - binary_accuracy: 0.9559 - val_loss: -0.9003 - val_dice_coef: 0.9003 - val_binary_accuracy: 0.9499\n",
      "Epoch 12/100\n",
      "450/452 [============================>.] - ETA: 0s - loss: -0.9078 - dice_coef: 0.9078 - binary_accuracy: 0.9556\n",
      "Epoch 00012: val_loss improved from -0.91584 to -0.92041, saving model to unet_lung_seg_2_epoch_100.hdf5\n",
      "452/452 [==============================] - 7s 15ms/sample - loss: -0.9079 - dice_coef: 0.9079 - binary_accuracy: 0.9556 - val_loss: -0.9204 - val_dice_coef: 0.9204 - val_binary_accuracy: 0.9582\n",
      "Epoch 13/100\n",
      "450/452 [============================>.] - ETA: 0s - loss: -0.9120 - dice_coef: 0.9120 - binary_accuracy: 0.9574\n",
      "Epoch 00013: val_loss did not improve from -0.92041\n",
      "452/452 [==============================] - 7s 15ms/sample - loss: -0.9120 - dice_coef: 0.9120 - binary_accuracy: 0.9574 - val_loss: -0.9158 - val_dice_coef: 0.9158 - val_binary_accuracy: 0.9565\n",
      "Epoch 14/100\n",
      "450/452 [============================>.] - ETA: 0s - loss: -0.9136 - dice_coef: 0.9136 - binary_accuracy: 0.9582\n",
      "Epoch 00014: val_loss improved from -0.92041 to -0.92275, saving model to unet_lung_seg_2_epoch_100.hdf5\n",
      "452/452 [==============================] - 7s 15ms/sample - loss: -0.9136 - dice_coef: 0.9136 - binary_accuracy: 0.9582 - val_loss: -0.9227 - val_dice_coef: 0.9227 - val_binary_accuracy: 0.9594\n",
      "Epoch 15/100\n",
      "450/452 [============================>.] - ETA: 0s - loss: -0.9166 - dice_coef: 0.9166 - binary_accuracy: 0.9596\n",
      "Epoch 00015: val_loss improved from -0.92275 to -0.92570, saving model to unet_lung_seg_2_epoch_100.hdf5\n",
      "452/452 [==============================] - 7s 15ms/sample - loss: -0.9167 - dice_coef: 0.9167 - binary_accuracy: 0.9597 - val_loss: -0.9257 - val_dice_coef: 0.9257 - val_binary_accuracy: 0.9603\n",
      "Epoch 16/100\n",
      "450/452 [============================>.] - ETA: 0s - loss: -0.9185 - dice_coef: 0.9185 - binary_accuracy: 0.9606\n",
      "Epoch 00016: val_loss improved from -0.92570 to -0.92979, saving model to unet_lung_seg_2_epoch_100.hdf5\n",
      "452/452 [==============================] - 7s 15ms/sample - loss: -0.9185 - dice_coef: 0.9185 - binary_accuracy: 0.9606 - val_loss: -0.9298 - val_dice_coef: 0.9298 - val_binary_accuracy: 0.9629\n",
      "Epoch 17/100\n",
      "450/452 [============================>.] - ETA: 0s - loss: -0.9198 - dice_coef: 0.9198 - binary_accuracy: 0.9609\n",
      "Epoch 00017: val_loss improved from -0.92979 to -0.92984, saving model to unet_lung_seg_2_epoch_100.hdf5\n",
      "452/452 [==============================] - 7s 15ms/sample - loss: -0.9199 - dice_coef: 0.9199 - binary_accuracy: 0.9610 - val_loss: -0.9298 - val_dice_coef: 0.9298 - val_binary_accuracy: 0.9625\n",
      "Epoch 18/100\n",
      "450/452 [============================>.] - ETA: 0s - loss: -0.9226 - dice_coef: 0.9226 - binary_accuracy: 0.9625\n",
      "Epoch 00018: val_loss improved from -0.92984 to -0.93192, saving model to unet_lung_seg_2_epoch_100.hdf5\n",
      "452/452 [==============================] - 7s 15ms/sample - loss: -0.9227 - dice_coef: 0.9227 - binary_accuracy: 0.9626 - val_loss: -0.9319 - val_dice_coef: 0.9319 - val_binary_accuracy: 0.9637\n",
      "Epoch 19/100\n",
      "450/452 [============================>.] - ETA: 0s - loss: -0.9240 - dice_coef: 0.9240 - binary_accuracy: 0.9630\n",
      "Epoch 00019: val_loss did not improve from -0.93192\n",
      "452/452 [==============================] - 7s 15ms/sample - loss: -0.9239 - dice_coef: 0.9239 - binary_accuracy: 0.9630 - val_loss: -0.9283 - val_dice_coef: 0.9283 - val_binary_accuracy: 0.9610\n",
      "Epoch 20/100\n",
      "450/452 [============================>.] - ETA: 0s - loss: -0.9237 - dice_coef: 0.9237 - binary_accuracy: 0.9632\n",
      "Epoch 00020: val_loss improved from -0.93192 to -0.93539, saving model to unet_lung_seg_2_epoch_100.hdf5\n",
      "452/452 [==============================] - 7s 15ms/sample - loss: -0.9238 - dice_coef: 0.9238 - binary_accuracy: 0.9632 - val_loss: -0.9354 - val_dice_coef: 0.9354 - val_binary_accuracy: 0.9660\n"
     ]
    },
    {
     "name": "stdout",
     "output_type": "stream",
     "text": [
      "Epoch 21/100\n",
      "450/452 [============================>.] - ETA: 0s - loss: -0.9267 - dice_coef: 0.9267 - binary_accuracy: 0.9645\n",
      "Epoch 00021: val_loss improved from -0.93539 to -0.93749, saving model to unet_lung_seg_2_epoch_100.hdf5\n",
      "452/452 [==============================] - 7s 15ms/sample - loss: -0.9268 - dice_coef: 0.9268 - binary_accuracy: 0.9645 - val_loss: -0.9375 - val_dice_coef: 0.9375 - val_binary_accuracy: 0.9670\n",
      "Epoch 22/100\n",
      "450/452 [============================>.] - ETA: 0s - loss: -0.9277 - dice_coef: 0.9277 - binary_accuracy: 0.9652\n",
      "Epoch 00022: val_loss did not improve from -0.93749\n",
      "452/452 [==============================] - 7s 15ms/sample - loss: -0.9278 - dice_coef: 0.9278 - binary_accuracy: 0.9653 - val_loss: -0.9352 - val_dice_coef: 0.9352 - val_binary_accuracy: 0.9650\n",
      "Epoch 23/100\n",
      "450/452 [============================>.] - ETA: 0s - loss: -0.9299 - dice_coef: 0.9299 - binary_accuracy: 0.9659\n",
      "Epoch 00023: val_loss improved from -0.93749 to -0.93974, saving model to unet_lung_seg_2_epoch_100.hdf5\n",
      "452/452 [==============================] - 7s 15ms/sample - loss: -0.9300 - dice_coef: 0.9300 - binary_accuracy: 0.9660 - val_loss: -0.9397 - val_dice_coef: 0.9397 - val_binary_accuracy: 0.9682\n",
      "Epoch 24/100\n",
      "450/452 [============================>.] - ETA: 0s - loss: -0.9320 - dice_coef: 0.9320 - binary_accuracy: 0.9673\n",
      "Epoch 00024: val_loss did not improve from -0.93974\n",
      "452/452 [==============================] - 7s 15ms/sample - loss: -0.9320 - dice_coef: 0.9320 - binary_accuracy: 0.9673 - val_loss: -0.9364 - val_dice_coef: 0.9364 - val_binary_accuracy: 0.9671\n",
      "Epoch 25/100\n",
      "450/452 [============================>.] - ETA: 0s - loss: -0.9337 - dice_coef: 0.9337 - binary_accuracy: 0.9679\n",
      "Epoch 00025: val_loss improved from -0.93974 to -0.93989, saving model to unet_lung_seg_2_epoch_100.hdf5\n",
      "452/452 [==============================] - 7s 15ms/sample - loss: -0.9338 - dice_coef: 0.9338 - binary_accuracy: 0.9680 - val_loss: -0.9399 - val_dice_coef: 0.9399 - val_binary_accuracy: 0.9688\n",
      "Epoch 26/100\n",
      "450/452 [============================>.] - ETA: 0s - loss: -0.9345 - dice_coef: 0.9345 - binary_accuracy: 0.9683\n",
      "Epoch 00026: val_loss improved from -0.93989 to -0.94386, saving model to unet_lung_seg_2_epoch_100.hdf5\n",
      "452/452 [==============================] - 7s 15ms/sample - loss: -0.9345 - dice_coef: 0.9345 - binary_accuracy: 0.9683 - val_loss: -0.9439 - val_dice_coef: 0.9439 - val_binary_accuracy: 0.9704\n",
      "Epoch 27/100\n",
      "450/452 [============================>.] - ETA: 0s - loss: -0.9356 - dice_coef: 0.9356 - binary_accuracy: 0.9690\n",
      "Epoch 00027: val_loss did not improve from -0.94386\n",
      "452/452 [==============================] - 7s 15ms/sample - loss: -0.9357 - dice_coef: 0.9357 - binary_accuracy: 0.9690 - val_loss: -0.9422 - val_dice_coef: 0.9422 - val_binary_accuracy: 0.9689\n",
      "Epoch 28/100\n",
      "450/452 [============================>.] - ETA: 0s - loss: -0.9358 - dice_coef: 0.9358 - binary_accuracy: 0.9690\n",
      "Epoch 00028: val_loss improved from -0.94386 to -0.94470, saving model to unet_lung_seg_2_epoch_100.hdf5\n",
      "452/452 [==============================] - 7s 15ms/sample - loss: -0.9359 - dice_coef: 0.9359 - binary_accuracy: 0.9691 - val_loss: -0.9447 - val_dice_coef: 0.9447 - val_binary_accuracy: 0.9704\n",
      "Epoch 29/100\n",
      "450/452 [============================>.] - ETA: 0s - loss: -0.9377 - dice_coef: 0.9377 - binary_accuracy: 0.9700\n",
      "Epoch 00029: val_loss improved from -0.94470 to -0.94710, saving model to unet_lung_seg_2_epoch_100.hdf5\n",
      "452/452 [==============================] - 7s 15ms/sample - loss: -0.9378 - dice_coef: 0.9378 - binary_accuracy: 0.9700 - val_loss: -0.9471 - val_dice_coef: 0.9471 - val_binary_accuracy: 0.9716\n",
      "Epoch 30/100\n",
      "450/452 [============================>.] - ETA: 0s - loss: -0.9387 - dice_coef: 0.9387 - binary_accuracy: 0.9705\n",
      "Epoch 00030: val_loss did not improve from -0.94710\n",
      "452/452 [==============================] - 7s 15ms/sample - loss: -0.9387 - dice_coef: 0.9387 - binary_accuracy: 0.9705 - val_loss: -0.9389 - val_dice_coef: 0.9389 - val_binary_accuracy: 0.9666\n",
      "Epoch 31/100\n",
      "450/452 [============================>.] - ETA: 0s - loss: -0.9395 - dice_coef: 0.9395 - binary_accuracy: 0.9709\n",
      "Epoch 00031: val_loss improved from -0.94710 to -0.94945, saving model to unet_lung_seg_2_epoch_100.hdf5\n",
      "452/452 [==============================] - 7s 15ms/sample - loss: -0.9395 - dice_coef: 0.9395 - binary_accuracy: 0.9708 - val_loss: -0.9494 - val_dice_coef: 0.9494 - val_binary_accuracy: 0.9733\n",
      "Epoch 32/100\n",
      "450/452 [============================>.] - ETA: 0s - loss: -0.9411 - dice_coef: 0.9411 - binary_accuracy: 0.9716\n",
      "Epoch 00032: val_loss did not improve from -0.94945\n",
      "452/452 [==============================] - 7s 15ms/sample - loss: -0.9411 - dice_coef: 0.9411 - binary_accuracy: 0.9716 - val_loss: -0.9493 - val_dice_coef: 0.9493 - val_binary_accuracy: 0.9734\n",
      "Epoch 33/100\n",
      "450/452 [============================>.] - ETA: 0s - loss: -0.9408 - dice_coef: 0.9408 - binary_accuracy: 0.9714\n",
      "Epoch 00033: val_loss improved from -0.94945 to -0.95042, saving model to unet_lung_seg_2_epoch_100.hdf5\n",
      "452/452 [==============================] - 7s 15ms/sample - loss: -0.9409 - dice_coef: 0.9409 - binary_accuracy: 0.9715 - val_loss: -0.9504 - val_dice_coef: 0.9504 - val_binary_accuracy: 0.9739\n",
      "Epoch 34/100\n",
      "450/452 [============================>.] - ETA: 0s - loss: -0.9432 - dice_coef: 0.9432 - binary_accuracy: 0.9726\n",
      "Epoch 00034: val_loss improved from -0.95042 to -0.95194, saving model to unet_lung_seg_2_epoch_100.hdf5\n",
      "452/452 [==============================] - 7s 15ms/sample - loss: -0.9433 - dice_coef: 0.9433 - binary_accuracy: 0.9726 - val_loss: -0.9519 - val_dice_coef: 0.9519 - val_binary_accuracy: 0.9746\n",
      "Epoch 35/100\n",
      "450/452 [============================>.] - ETA: 0s - loss: -0.9434 - dice_coef: 0.9434 - binary_accuracy: 0.9727\n",
      "Epoch 00035: val_loss improved from -0.95194 to -0.95252, saving model to unet_lung_seg_2_epoch_100.hdf5\n",
      "452/452 [==============================] - 7s 15ms/sample - loss: -0.9434 - dice_coef: 0.9434 - binary_accuracy: 0.9727 - val_loss: -0.9525 - val_dice_coef: 0.9525 - val_binary_accuracy: 0.9748\n",
      "Epoch 36/100\n",
      "450/452 [============================>.] - ETA: 0s - loss: -0.9450 - dice_coef: 0.9450 - binary_accuracy: 0.9734\n",
      "Epoch 00036: val_loss improved from -0.95252 to -0.95377, saving model to unet_lung_seg_2_epoch_100.hdf5\n",
      "452/452 [==============================] - 7s 15ms/sample - loss: -0.9449 - dice_coef: 0.9449 - binary_accuracy: 0.9733 - val_loss: -0.9538 - val_dice_coef: 0.9538 - val_binary_accuracy: 0.9754\n",
      "Epoch 37/100\n",
      "450/452 [============================>.] - ETA: 0s - loss: -0.9456 - dice_coef: 0.9456 - binary_accuracy: 0.9737\n",
      "Epoch 00037: val_loss did not improve from -0.95377\n",
      "452/452 [==============================] - 7s 15ms/sample - loss: -0.9454 - dice_coef: 0.9454 - binary_accuracy: 0.9735 - val_loss: -0.9495 - val_dice_coef: 0.9495 - val_binary_accuracy: 0.9727\n",
      "Epoch 38/100\n",
      "450/452 [============================>.] - ETA: 0s - loss: -0.9450 - dice_coef: 0.9450 - binary_accuracy: 0.9736\n",
      "Epoch 00038: val_loss improved from -0.95377 to -0.95461, saving model to unet_lung_seg_2_epoch_100.hdf5\n",
      "452/452 [==============================] - 7s 15ms/sample - loss: -0.9451 - dice_coef: 0.9451 - binary_accuracy: 0.9736 - val_loss: -0.9546 - val_dice_coef: 0.9546 - val_binary_accuracy: 0.9759\n",
      "Epoch 39/100\n",
      "450/452 [============================>.] - ETA: 0s - loss: -0.9464 - dice_coef: 0.9464 - binary_accuracy: 0.9742\n",
      "Epoch 00039: val_loss did not improve from -0.95461\n",
      "452/452 [==============================] - 7s 15ms/sample - loss: -0.9464 - dice_coef: 0.9464 - binary_accuracy: 0.9742 - val_loss: -0.9534 - val_dice_coef: 0.9534 - val_binary_accuracy: 0.9750\n",
      "Epoch 40/100\n",
      "450/452 [============================>.] - ETA: 0s - loss: -0.9467 - dice_coef: 0.9467 - binary_accuracy: 0.9742\n",
      "Epoch 00040: val_loss improved from -0.95461 to -0.95614, saving model to unet_lung_seg_2_epoch_100.hdf5\n",
      "452/452 [==============================] - 7s 15ms/sample - loss: -0.9467 - dice_coef: 0.9467 - binary_accuracy: 0.9742 - val_loss: -0.9561 - val_dice_coef: 0.9561 - val_binary_accuracy: 0.9769\n",
      "Epoch 41/100\n",
      "450/452 [============================>.] - ETA: 0s - loss: -0.9470 - dice_coef: 0.9470 - binary_accuracy: 0.9742\n",
      "Epoch 00041: val_loss did not improve from -0.95614\n",
      "452/452 [==============================] - 7s 15ms/sample - loss: -0.9470 - dice_coef: 0.9470 - binary_accuracy: 0.9742 - val_loss: -0.9553 - val_dice_coef: 0.9553 - val_binary_accuracy: 0.9762\n",
      "Epoch 42/100\n",
      "450/452 [============================>.] - ETA: 0s - loss: -0.9472 - dice_coef: 0.9472 - binary_accuracy: 0.9745\n",
      "Epoch 00042: val_loss did not improve from -0.95614\n",
      "452/452 [==============================] - 7s 15ms/sample - loss: -0.9473 - dice_coef: 0.9473 - binary_accuracy: 0.9746 - val_loss: -0.9556 - val_dice_coef: 0.9556 - val_binary_accuracy: 0.9767\n",
      "Epoch 43/100\n",
      "450/452 [============================>.] - ETA: 0s - loss: -0.9481 - dice_coef: 0.9481 - binary_accuracy: 0.9749\n",
      "Epoch 00043: val_loss did not improve from -0.95614\n",
      "452/452 [==============================] - 7s 15ms/sample - loss: -0.9481 - dice_coef: 0.9481 - binary_accuracy: 0.9749 - val_loss: -0.9549 - val_dice_coef: 0.9549 - val_binary_accuracy: 0.9757\n",
      "Epoch 44/100\n",
      "450/452 [============================>.] - ETA: 0s - loss: -0.9488 - dice_coef: 0.9488 - binary_accuracy: 0.9752\n",
      "Epoch 00044: val_loss improved from -0.95614 to -0.95708, saving model to unet_lung_seg_2_epoch_100.hdf5\n",
      "452/452 [==============================] - 7s 15ms/sample - loss: -0.9489 - dice_coef: 0.9489 - binary_accuracy: 0.9752 - val_loss: -0.9571 - val_dice_coef: 0.9571 - val_binary_accuracy: 0.9772\n",
      "Epoch 45/100\n",
      "450/452 [============================>.] - ETA: 0s - loss: -0.9490 - dice_coef: 0.9490 - binary_accuracy: 0.9753\n",
      "Epoch 00045: val_loss improved from -0.95708 to -0.95779, saving model to unet_lung_seg_2_epoch_100.hdf5\n",
      "452/452 [==============================] - 7s 15ms/sample - loss: -0.9491 - dice_coef: 0.9491 - binary_accuracy: 0.9753 - val_loss: -0.9578 - val_dice_coef: 0.9578 - val_binary_accuracy: 0.9776\n",
      "Epoch 46/100\n",
      "448/452 [============================>.] - ETA: 0s - loss: -0.9496 - dice_coef: 0.9496 - binary_accuracy: 0.9755\n",
      "Epoch 00046: val_loss did not improve from -0.95779\n",
      "452/452 [==============================] - 7s 15ms/sample - loss: -0.9497 - dice_coef: 0.9497 - binary_accuracy: 0.9756 - val_loss: -0.9512 - val_dice_coef: 0.9512 - val_binary_accuracy: 0.9746\n",
      "Epoch 47/100\n",
      "450/452 [============================>.] - ETA: 0s - loss: -0.9497 - dice_coef: 0.9497 - binary_accuracy: 0.9757\n",
      "Epoch 00047: val_loss improved from -0.95779 to -0.95786, saving model to unet_lung_seg_2_epoch_100.hdf5\n",
      "452/452 [==============================] - 7s 15ms/sample - loss: -0.9496 - dice_coef: 0.9496 - binary_accuracy: 0.9756 - val_loss: -0.9579 - val_dice_coef: 0.9579 - val_binary_accuracy: 0.9776\n",
      "Epoch 48/100\n",
      "450/452 [============================>.] - ETA: 0s - loss: -0.9507 - dice_coef: 0.9507 - binary_accuracy: 0.9761\n",
      "Epoch 00048: val_loss did not improve from -0.95786\n",
      "452/452 [==============================] - 7s 15ms/sample - loss: -0.9508 - dice_coef: 0.9508 - binary_accuracy: 0.9761 - val_loss: -0.9578 - val_dice_coef: 0.9578 - val_binary_accuracy: 0.9776\n",
      "Epoch 49/100\n",
      "450/452 [============================>.] - ETA: 0s - loss: -0.9512 - dice_coef: 0.9512 - binary_accuracy: 0.9763\n",
      "Epoch 00049: val_loss improved from -0.95786 to -0.95847, saving model to unet_lung_seg_2_epoch_100.hdf5\n",
      "452/452 [==============================] - 7s 15ms/sample - loss: -0.9512 - dice_coef: 0.9512 - binary_accuracy: 0.9763 - val_loss: -0.9585 - val_dice_coef: 0.9585 - val_binary_accuracy: 0.9779\n",
      "Epoch 50/100\n",
      "450/452 [============================>.] - ETA: 0s - loss: -0.9511 - dice_coef: 0.9511 - binary_accuracy: 0.9762\n",
      "Epoch 00050: val_loss did not improve from -0.95847\n",
      "452/452 [==============================] - 7s 15ms/sample - loss: -0.9510 - dice_coef: 0.9510 - binary_accuracy: 0.9762 - val_loss: -0.9567 - val_dice_coef: 0.9567 - val_binary_accuracy: 0.9766\n",
      "Epoch 51/100\n",
      "450/452 [============================>.] - ETA: 0s - loss: -0.9520 - dice_coef: 0.9520 - binary_accuracy: 0.9766\n",
      "Epoch 00051: val_loss improved from -0.95847 to -0.95985, saving model to unet_lung_seg_2_epoch_100.hdf5\n",
      "452/452 [==============================] - 7s 15ms/sample - loss: -0.9521 - dice_coef: 0.9521 - binary_accuracy: 0.9767 - val_loss: -0.9598 - val_dice_coef: 0.9598 - val_binary_accuracy: 0.9788\n",
      "Epoch 52/100\n",
      "450/452 [============================>.] - ETA: 0s - loss: -0.9522 - dice_coef: 0.9522 - binary_accuracy: 0.9768\n",
      "Epoch 00052: val_loss improved from -0.95985 to -0.95986, saving model to unet_lung_seg_2_epoch_100.hdf5\n",
      "452/452 [==============================] - 7s 15ms/sample - loss: -0.9523 - dice_coef: 0.9523 - binary_accuracy: 0.9768 - val_loss: -0.9599 - val_dice_coef: 0.9599 - val_binary_accuracy: 0.9785\n",
      "Epoch 53/100\n",
      "450/452 [============================>.] - ETA: 0s - loss: -0.9523 - dice_coef: 0.9523 - binary_accuracy: 0.9769\n",
      "Epoch 00053: val_loss did not improve from -0.95986\n",
      "452/452 [==============================] - 7s 15ms/sample - loss: -0.9523 - dice_coef: 0.9523 - binary_accuracy: 0.9768 - val_loss: -0.9567 - val_dice_coef: 0.9567 - val_binary_accuracy: 0.9767\n",
      "Epoch 54/100\n",
      "450/452 [============================>.] - ETA: 0s - loss: -0.9520 - dice_coef: 0.9520 - binary_accuracy: 0.9767\n",
      "Epoch 00054: val_loss improved from -0.95986 to -0.95994, saving model to unet_lung_seg_2_epoch_100.hdf5\n",
      "452/452 [==============================] - 7s 15ms/sample - loss: -0.9520 - dice_coef: 0.9520 - binary_accuracy: 0.9767 - val_loss: -0.9599 - val_dice_coef: 0.9599 - val_binary_accuracy: 0.9787\n",
      "Epoch 55/100\n",
      "450/452 [============================>.] - ETA: 0s - loss: -0.9532 - dice_coef: 0.9532 - binary_accuracy: 0.9773\n",
      "Epoch 00055: val_loss improved from -0.95994 to -0.96059, saving model to unet_lung_seg_2_epoch_100.hdf5\n",
      "452/452 [==============================] - 7s 15ms/sample - loss: -0.9530 - dice_coef: 0.9530 - binary_accuracy: 0.9772 - val_loss: -0.9606 - val_dice_coef: 0.9606 - val_binary_accuracy: 0.9792\n",
      "Epoch 56/100\n",
      "450/452 [============================>.] - ETA: 0s - loss: -0.9517 - dice_coef: 0.9517 - binary_accuracy: 0.9766\n",
      "Epoch 00056: val_loss did not improve from -0.96059\n",
      "452/452 [==============================] - 7s 15ms/sample - loss: -0.9516 - dice_coef: 0.9516 - binary_accuracy: 0.9766 - val_loss: -0.9605 - val_dice_coef: 0.9605 - val_binary_accuracy: 0.9788\n",
      "Epoch 57/100\n",
      "450/452 [============================>.] - ETA: 0s - loss: -0.9533 - dice_coef: 0.9533 - binary_accuracy: 0.9774\n",
      "Epoch 00057: val_loss improved from -0.96059 to -0.96067, saving model to unet_lung_seg_2_epoch_100.hdf5\n",
      "452/452 [==============================] - 7s 15ms/sample - loss: -0.9532 - dice_coef: 0.9532 - binary_accuracy: 0.9773 - val_loss: -0.9607 - val_dice_coef: 0.9607 - val_binary_accuracy: 0.9793\n",
      "Epoch 58/100\n",
      "450/452 [============================>.] - ETA: 0s - loss: -0.9540 - dice_coef: 0.9540 - binary_accuracy: 0.9776\n",
      "Epoch 00058: val_loss did not improve from -0.96067\n",
      "452/452 [==============================] - 7s 15ms/sample - loss: -0.9541 - dice_coef: 0.9541 - binary_accuracy: 0.9776 - val_loss: -0.9598 - val_dice_coef: 0.9598 - val_binary_accuracy: 0.9785\n",
      "Epoch 59/100\n",
      "450/452 [============================>.] - ETA: 0s - loss: -0.9540 - dice_coef: 0.9540 - binary_accuracy: 0.9775\n",
      "Epoch 00059: val_loss did not improve from -0.96067\n",
      "452/452 [==============================] - 7s 15ms/sample - loss: -0.9538 - dice_coef: 0.9538 - binary_accuracy: 0.9774 - val_loss: -0.9584 - val_dice_coef: 0.9584 - val_binary_accuracy: 0.9775\n",
      "Epoch 60/100\n",
      "450/452 [============================>.] - ETA: 0s - loss: -0.9537 - dice_coef: 0.9537 - binary_accuracy: 0.9774\n",
      "Epoch 00060: val_loss did not improve from -0.96067\n",
      "452/452 [==============================] - 7s 15ms/sample - loss: -0.9537 - dice_coef: 0.9537 - binary_accuracy: 0.9774 - val_loss: -0.9606 - val_dice_coef: 0.9606 - val_binary_accuracy: 0.9791\n",
      "Epoch 61/100\n",
      "450/452 [============================>.] - ETA: 0s - loss: -0.9542 - dice_coef: 0.9542 - binary_accuracy: 0.9777\n",
      "Epoch 00061: val_loss improved from -0.96067 to -0.96088, saving model to unet_lung_seg_2_epoch_100.hdf5\n",
      "452/452 [==============================] - 7s 15ms/sample - loss: -0.9542 - dice_coef: 0.9542 - binary_accuracy: 0.9778 - val_loss: -0.9609 - val_dice_coef: 0.9609 - val_binary_accuracy: 0.9789\n"
     ]
    },
    {
     "name": "stdout",
     "output_type": "stream",
     "text": [
      "Epoch 62/100\n",
      "450/452 [============================>.] - ETA: 0s - loss: -0.9548 - dice_coef: 0.9548 - binary_accuracy: 0.9779\n",
      "Epoch 00062: val_loss did not improve from -0.96088\n",
      "452/452 [==============================] - 7s 15ms/sample - loss: -0.9547 - dice_coef: 0.9547 - binary_accuracy: 0.9779 - val_loss: -0.9606 - val_dice_coef: 0.9606 - val_binary_accuracy: 0.9789\n",
      "Epoch 63/100\n",
      "450/452 [============================>.] - ETA: 0s - loss: -0.9547 - dice_coef: 0.9547 - binary_accuracy: 0.9779\n",
      "Epoch 00063: val_loss did not improve from -0.96088\n",
      "452/452 [==============================] - 7s 15ms/sample - loss: -0.9546 - dice_coef: 0.9546 - binary_accuracy: 0.9779 - val_loss: -0.9603 - val_dice_coef: 0.9603 - val_binary_accuracy: 0.9785\n",
      "Epoch 64/100\n",
      "450/452 [============================>.] - ETA: 0s - loss: -0.9548 - dice_coef: 0.9548 - binary_accuracy: 0.9780\n",
      "Epoch 00064: val_loss did not improve from -0.96088\n",
      "452/452 [==============================] - 7s 15ms/sample - loss: -0.9547 - dice_coef: 0.9547 - binary_accuracy: 0.9779 - val_loss: -0.9573 - val_dice_coef: 0.9573 - val_binary_accuracy: 0.9769\n",
      "Epoch 65/100\n",
      "450/452 [============================>.] - ETA: 0s - loss: -0.9547 - dice_coef: 0.9547 - binary_accuracy: 0.9780\n",
      "Epoch 00065: val_loss improved from -0.96088 to -0.96147, saving model to unet_lung_seg_2_epoch_100.hdf5\n",
      "452/452 [==============================] - 7s 15ms/sample - loss: -0.9548 - dice_coef: 0.9548 - binary_accuracy: 0.9781 - val_loss: -0.9615 - val_dice_coef: 0.9615 - val_binary_accuracy: 0.9795\n",
      "Epoch 66/100\n",
      "450/452 [============================>.] - ETA: 0s - loss: -0.9549 - dice_coef: 0.9549 - binary_accuracy: 0.9780\n",
      "Epoch 00066: val_loss did not improve from -0.96147\n",
      "452/452 [==============================] - 7s 15ms/sample - loss: -0.9549 - dice_coef: 0.9549 - binary_accuracy: 0.9780 - val_loss: -0.9600 - val_dice_coef: 0.9600 - val_binary_accuracy: 0.9787\n",
      "Epoch 67/100\n",
      "450/452 [============================>.] - ETA: 0s - loss: -0.9555 - dice_coef: 0.9555 - binary_accuracy: 0.9782\n",
      "Epoch 00067: val_loss did not improve from -0.96147\n",
      "452/452 [==============================] - 7s 15ms/sample - loss: -0.9555 - dice_coef: 0.9555 - binary_accuracy: 0.9783 - val_loss: -0.9599 - val_dice_coef: 0.9599 - val_binary_accuracy: 0.9783\n",
      "Epoch 68/100\n",
      "450/452 [============================>.] - ETA: 0s - loss: -0.9555 - dice_coef: 0.9555 - binary_accuracy: 0.9784\n",
      "Epoch 00068: val_loss improved from -0.96147 to -0.96216, saving model to unet_lung_seg_2_epoch_100.hdf5\n",
      "452/452 [==============================] - 7s 15ms/sample - loss: -0.9555 - dice_coef: 0.9555 - binary_accuracy: 0.9784 - val_loss: -0.9622 - val_dice_coef: 0.9622 - val_binary_accuracy: 0.9798\n",
      "Epoch 69/100\n",
      "450/452 [============================>.] - ETA: 0s - loss: -0.9566 - dice_coef: 0.9566 - binary_accuracy: 0.9787\n",
      "Epoch 00069: val_loss did not improve from -0.96216\n",
      "452/452 [==============================] - 7s 15ms/sample - loss: -0.9564 - dice_coef: 0.9564 - binary_accuracy: 0.9785 - val_loss: -0.9608 - val_dice_coef: 0.9608 - val_binary_accuracy: 0.9788\n",
      "Epoch 70/100\n",
      "450/452 [============================>.] - ETA: 0s - loss: -0.9559 - dice_coef: 0.9559 - binary_accuracy: 0.9785\n",
      "Epoch 00070: val_loss did not improve from -0.96216\n",
      "452/452 [==============================] - 7s 15ms/sample - loss: -0.9560 - dice_coef: 0.9560 - binary_accuracy: 0.9786 - val_loss: -0.9613 - val_dice_coef: 0.9613 - val_binary_accuracy: 0.9792\n",
      "Epoch 71/100\n",
      "450/452 [============================>.] - ETA: 0s - loss: -0.9556 - dice_coef: 0.9556 - binary_accuracy: 0.9784\n",
      "Epoch 00071: val_loss did not improve from -0.96216\n",
      "452/452 [==============================] - 7s 15ms/sample - loss: -0.9557 - dice_coef: 0.9557 - binary_accuracy: 0.9784 - val_loss: -0.9621 - val_dice_coef: 0.9621 - val_binary_accuracy: 0.9796\n",
      "Epoch 72/100\n",
      "450/452 [============================>.] - ETA: 0s - loss: -0.9560 - dice_coef: 0.9560 - binary_accuracy: 0.9784\n",
      "Epoch 00072: val_loss did not improve from -0.96216\n",
      "452/452 [==============================] - 7s 15ms/sample - loss: -0.9561 - dice_coef: 0.9561 - binary_accuracy: 0.9785 - val_loss: -0.9620 - val_dice_coef: 0.9620 - val_binary_accuracy: 0.9799\n",
      "Epoch 73/100\n",
      "450/452 [============================>.] - ETA: 0s - loss: -0.9566 - dice_coef: 0.9566 - binary_accuracy: 0.9786\n",
      "Epoch 00073: val_loss did not improve from -0.96216\n",
      "452/452 [==============================] - 7s 15ms/sample - loss: -0.9567 - dice_coef: 0.9567 - binary_accuracy: 0.9787 - val_loss: -0.9618 - val_dice_coef: 0.9618 - val_binary_accuracy: 0.9797\n",
      "Epoch 74/100\n",
      "450/452 [============================>.] - ETA: 0s - loss: -0.9570 - dice_coef: 0.9570 - binary_accuracy: 0.9790\n",
      "Epoch 00074: val_loss did not improve from -0.96216\n",
      "452/452 [==============================] - 7s 15ms/sample - loss: -0.9570 - dice_coef: 0.9570 - binary_accuracy: 0.9790 - val_loss: -0.9615 - val_dice_coef: 0.9615 - val_binary_accuracy: 0.9798\n",
      "Epoch 75/100\n",
      "450/452 [============================>.] - ETA: 0s - loss: -0.9570 - dice_coef: 0.9570 - binary_accuracy: 0.9790\n",
      "Epoch 00075: val_loss did not improve from -0.96216\n",
      "452/452 [==============================] - 7s 15ms/sample - loss: -0.9570 - dice_coef: 0.9570 - binary_accuracy: 0.9790 - val_loss: -0.9621 - val_dice_coef: 0.9621 - val_binary_accuracy: 0.9796\n",
      "Epoch 76/100\n",
      "450/452 [============================>.] - ETA: 0s - loss: -0.9578 - dice_coef: 0.9578 - binary_accuracy: 0.9793\n",
      "Epoch 00076: val_loss improved from -0.96216 to -0.96217, saving model to unet_lung_seg_2_epoch_100.hdf5\n",
      "452/452 [==============================] - 7s 15ms/sample - loss: -0.9578 - dice_coef: 0.9578 - binary_accuracy: 0.9793 - val_loss: -0.9622 - val_dice_coef: 0.9622 - val_binary_accuracy: 0.9798\n",
      "Epoch 77/100\n",
      "450/452 [============================>.] - ETA: 0s - loss: -0.9573 - dice_coef: 0.9573 - binary_accuracy: 0.9791\n",
      "Epoch 00077: val_loss did not improve from -0.96217\n",
      "452/452 [==============================] - 7s 15ms/sample - loss: -0.9572 - dice_coef: 0.9572 - binary_accuracy: 0.9790 - val_loss: -0.9598 - val_dice_coef: 0.9598 - val_binary_accuracy: 0.9781\n",
      "Epoch 78/100\n",
      "450/452 [============================>.] - ETA: 0s - loss: -0.9575 - dice_coef: 0.9575 - binary_accuracy: 0.9791\n",
      "Epoch 00078: val_loss did not improve from -0.96217\n",
      "452/452 [==============================] - 7s 15ms/sample - loss: -0.9575 - dice_coef: 0.9575 - binary_accuracy: 0.9791 - val_loss: -0.9611 - val_dice_coef: 0.9611 - val_binary_accuracy: 0.9792\n",
      "Epoch 79/100\n",
      "450/452 [============================>.] - ETA: 0s - loss: -0.9577 - dice_coef: 0.9577 - binary_accuracy: 0.9793\n",
      "Epoch 00079: val_loss did not improve from -0.96217\n",
      "452/452 [==============================] - 7s 15ms/sample - loss: -0.9578 - dice_coef: 0.9578 - binary_accuracy: 0.9793 - val_loss: -0.9619 - val_dice_coef: 0.9619 - val_binary_accuracy: 0.9796\n",
      "Epoch 80/100\n",
      "450/452 [============================>.] - ETA: 0s - loss: -0.9581 - dice_coef: 0.9581 - binary_accuracy: 0.9794\n",
      "Epoch 00080: val_loss improved from -0.96217 to -0.96299, saving model to unet_lung_seg_2_epoch_100.hdf5\n",
      "452/452 [==============================] - 7s 15ms/sample - loss: -0.9582 - dice_coef: 0.9582 - binary_accuracy: 0.9794 - val_loss: -0.9630 - val_dice_coef: 0.9630 - val_binary_accuracy: 0.9802\n",
      "Epoch 81/100\n",
      "450/452 [============================>.] - ETA: 0s - loss: -0.9583 - dice_coef: 0.9583 - binary_accuracy: 0.9796\n",
      "Epoch 00081: val_loss did not improve from -0.96299\n",
      "452/452 [==============================] - 7s 15ms/sample - loss: -0.9583 - dice_coef: 0.9583 - binary_accuracy: 0.9796 - val_loss: -0.9622 - val_dice_coef: 0.9622 - val_binary_accuracy: 0.9795\n",
      "Epoch 82/100\n",
      "450/452 [============================>.] - ETA: 0s - loss: -0.9583 - dice_coef: 0.9583 - binary_accuracy: 0.9796\n",
      "Epoch 00082: val_loss did not improve from -0.96299\n",
      "452/452 [==============================] - 7s 15ms/sample - loss: -0.9582 - dice_coef: 0.9582 - binary_accuracy: 0.9796 - val_loss: -0.9608 - val_dice_coef: 0.9608 - val_binary_accuracy: 0.9789\n",
      "Epoch 83/100\n",
      "450/452 [============================>.] - ETA: 0s - loss: -0.9580 - dice_coef: 0.9580 - binary_accuracy: 0.9794\n",
      "Epoch 00083: val_loss did not improve from -0.96299\n",
      "452/452 [==============================] - 7s 15ms/sample - loss: -0.9581 - dice_coef: 0.9581 - binary_accuracy: 0.9794 - val_loss: -0.9615 - val_dice_coef: 0.9615 - val_binary_accuracy: 0.9792\n"
     ]
    },
    {
     "name": "stdout",
     "output_type": "stream",
     "text": [
      "Epoch 84/100\n",
      "450/452 [============================>.] - ETA: 0s - loss: -0.9578 - dice_coef: 0.9578 - binary_accuracy: 0.9794\n",
      "Epoch 00084: val_loss did not improve from -0.96299\n",
      "452/452 [==============================] - 7s 15ms/sample - loss: -0.9579 - dice_coef: 0.9579 - binary_accuracy: 0.9794 - val_loss: -0.9617 - val_dice_coef: 0.9617 - val_binary_accuracy: 0.9795\n",
      "Epoch 85/100\n",
      "450/452 [============================>.] - ETA: 0s - loss: -0.9590 - dice_coef: 0.9590 - binary_accuracy: 0.9799\n",
      "Epoch 00085: val_loss did not improve from -0.96299\n",
      "452/452 [==============================] - 7s 15ms/sample - loss: -0.9591 - dice_coef: 0.9591 - binary_accuracy: 0.9799 - val_loss: -0.9625 - val_dice_coef: 0.9625 - val_binary_accuracy: 0.9800\n",
      "Epoch 86/100\n",
      "450/452 [============================>.] - ETA: 0s - loss: -0.9588 - dice_coef: 0.9588 - binary_accuracy: 0.9798\n",
      "Epoch 00086: val_loss did not improve from -0.96299\n",
      "452/452 [==============================] - 7s 15ms/sample - loss: -0.9588 - dice_coef: 0.9588 - binary_accuracy: 0.9798 - val_loss: -0.9629 - val_dice_coef: 0.9629 - val_binary_accuracy: 0.9801\n",
      "Epoch 87/100\n",
      "450/452 [============================>.] - ETA: 0s - loss: -0.9593 - dice_coef: 0.9593 - binary_accuracy: 0.9801\n",
      "Epoch 00087: val_loss did not improve from -0.96299\n",
      "452/452 [==============================] - 7s 15ms/sample - loss: -0.9593 - dice_coef: 0.9593 - binary_accuracy: 0.9801 - val_loss: -0.9589 - val_dice_coef: 0.9589 - val_binary_accuracy: 0.9776\n",
      "Epoch 88/100\n",
      "450/452 [============================>.] - ETA: 0s - loss: -0.9593 - dice_coef: 0.9593 - binary_accuracy: 0.9800\n",
      "Epoch 00088: val_loss improved from -0.96299 to -0.96332, saving model to unet_lung_seg_2_epoch_100.hdf5\n",
      "452/452 [==============================] - 7s 15ms/sample - loss: -0.9594 - dice_coef: 0.9594 - binary_accuracy: 0.9800 - val_loss: -0.9633 - val_dice_coef: 0.9633 - val_binary_accuracy: 0.9804\n",
      "Epoch 89/100\n",
      "450/452 [============================>.] - ETA: 0s - loss: -0.9596 - dice_coef: 0.9596 - binary_accuracy: 0.9802\n",
      "Epoch 00089: val_loss did not improve from -0.96332\n",
      "452/452 [==============================] - 7s 15ms/sample - loss: -0.9595 - dice_coef: 0.9595 - binary_accuracy: 0.9801 - val_loss: -0.9617 - val_dice_coef: 0.9617 - val_binary_accuracy: 0.9793\n",
      "Epoch 90/100\n",
      "448/452 [============================>.] - ETA: 0s - loss: -0.9601 - dice_coef: 0.9601 - binary_accuracy: 0.9805\n",
      "Epoch 00090: val_loss did not improve from -0.96332\n",
      "452/452 [==============================] - 7s 15ms/sample - loss: -0.9599 - dice_coef: 0.9599 - binary_accuracy: 0.9804 - val_loss: -0.9602 - val_dice_coef: 0.9602 - val_binary_accuracy: 0.9787\n",
      "Epoch 91/100\n",
      "450/452 [============================>.] - ETA: 0s - loss: -0.9600 - dice_coef: 0.9600 - binary_accuracy: 0.9804\n",
      "Epoch 00091: val_loss did not improve from -0.96332\n",
      "452/452 [==============================] - 7s 15ms/sample - loss: -0.9600 - dice_coef: 0.9600 - binary_accuracy: 0.9804 - val_loss: -0.9622 - val_dice_coef: 0.9622 - val_binary_accuracy: 0.9799\n",
      "Epoch 92/100\n",
      "448/452 [============================>.] - ETA: 0s - loss: -0.9600 - dice_coef: 0.9600 - binary_accuracy: 0.9804\n",
      "Epoch 00092: val_loss did not improve from -0.96332\n",
      "452/452 [==============================] - 7s 15ms/sample - loss: -0.9601 - dice_coef: 0.9601 - binary_accuracy: 0.9804 - val_loss: -0.9624 - val_dice_coef: 0.9624 - val_binary_accuracy: 0.9797\n",
      "Epoch 93/100\n",
      "450/452 [============================>.] - ETA: 0s - loss: -0.9604 - dice_coef: 0.9604 - binary_accuracy: 0.9806\n",
      "Epoch 00093: val_loss did not improve from -0.96332\n",
      "452/452 [==============================] - 7s 15ms/sample - loss: -0.9604 - dice_coef: 0.9604 - binary_accuracy: 0.9806 - val_loss: -0.9612 - val_dice_coef: 0.9612 - val_binary_accuracy: 0.9792\n",
      "Epoch 94/100\n",
      "450/452 [============================>.] - ETA: 0s - loss: -0.9603 - dice_coef: 0.9603 - binary_accuracy: 0.9806\n",
      "Epoch 00094: val_loss did not improve from -0.96332\n",
      "452/452 [==============================] - 7s 15ms/sample - loss: -0.9603 - dice_coef: 0.9603 - binary_accuracy: 0.9806 - val_loss: -0.9598 - val_dice_coef: 0.9598 - val_binary_accuracy: 0.9785\n",
      "Epoch 95/100\n",
      "450/452 [============================>.] - ETA: 0s - loss: -0.9606 - dice_coef: 0.9606 - binary_accuracy: 0.9807\n",
      "Epoch 00095: val_loss did not improve from -0.96332\n",
      "452/452 [==============================] - 7s 15ms/sample - loss: -0.9604 - dice_coef: 0.9604 - binary_accuracy: 0.9806 - val_loss: -0.9627 - val_dice_coef: 0.9627 - val_binary_accuracy: 0.9798\n",
      "Epoch 96/100\n",
      "450/452 [============================>.] - ETA: 0s - loss: -0.9610 - dice_coef: 0.9610 - binary_accuracy: 0.9808\n",
      "Epoch 00096: val_loss did not improve from -0.96332\n",
      "452/452 [==============================] - 7s 15ms/sample - loss: -0.9609 - dice_coef: 0.9609 - binary_accuracy: 0.9807 - val_loss: -0.9622 - val_dice_coef: 0.9622 - val_binary_accuracy: 0.9798\n",
      "Epoch 97/100\n",
      "450/452 [============================>.] - ETA: 0s - loss: -0.9610 - dice_coef: 0.9610 - binary_accuracy: 0.9809\n",
      "Epoch 00097: val_loss did not improve from -0.96332\n",
      "452/452 [==============================] - 7s 15ms/sample - loss: -0.9611 - dice_coef: 0.9611 - binary_accuracy: 0.9809 - val_loss: -0.9620 - val_dice_coef: 0.9620 - val_binary_accuracy: 0.9796\n",
      "Epoch 98/100\n",
      "450/452 [============================>.] - ETA: 0s - loss: -0.9608 - dice_coef: 0.9608 - binary_accuracy: 0.9807\n",
      "Epoch 00098: val_loss did not improve from -0.96332\n",
      "452/452 [==============================] - 7s 15ms/sample - loss: -0.9609 - dice_coef: 0.9609 - binary_accuracy: 0.9807 - val_loss: -0.9625 - val_dice_coef: 0.9625 - val_binary_accuracy: 0.9799\n",
      "Epoch 99/100\n",
      "450/452 [============================>.] - ETA: 0s - loss: -0.9613 - dice_coef: 0.9613 - binary_accuracy: 0.9811\n",
      "Epoch 00099: val_loss did not improve from -0.96332\n",
      "452/452 [==============================] - 7s 15ms/sample - loss: -0.9614 - dice_coef: 0.9614 - binary_accuracy: 0.9812 - val_loss: -0.9623 - val_dice_coef: 0.9623 - val_binary_accuracy: 0.9798\n",
      "Epoch 100/100\n",
      "450/452 [============================>.] - ETA: 0s - loss: -0.9615 - dice_coef: 0.9615 - binary_accuracy: 0.9811\n",
      "Epoch 00100: val_loss did not improve from -0.96332\n",
      "452/452 [==============================] - 7s 15ms/sample - loss: -0.9615 - dice_coef: 0.9615 - binary_accuracy: 0.9811 - val_loss: -0.9591 - val_dice_coef: 0.9591 - val_binary_accuracy: 0.9776\n"
     ]
    }
   ],
   "source": [
    "model_checkpoint = ModelCheckpoint('unet_lung_seg_2_epoch_100.hdf5', \n",
    "                                   monitor='val_loss', \n",
    "                                   verbose=1, \n",
    "                                   save_best_only=True)\n",
    "train_history = model_unet.fit(train_image_arr,train_mask_arr,validation_split=0.2,epochs=100,batch_size=2,callbacks=[model_checkpoint])"
   ]
  },
  {
   "cell_type": "code",
   "execution_count": 14,
   "metadata": {},
   "outputs": [
    {
     "name": "stdout",
     "output_type": "stream",
     "text": [
      "WARNING:tensorflow:From C:\\Users\\r09922110\\anaconda3\\envs\\ML\\lib\\site-packages\\tensorflow\\python\\ops\\resource_variable_ops.py:435: colocate_with (from tensorflow.python.framework.ops) is deprecated and will be removed in a future version.\n",
      "Instructions for updating:\n",
      "Colocations handled automatically by placer.\n"
     ]
    }
   ],
   "source": [
    "model_unet = unet_2()"
   ]
  },
  {
   "cell_type": "code",
   "execution_count": 15,
   "metadata": {},
   "outputs": [],
   "source": [
    "model_unet.load_weights('./unet_lung_seg_2_epoch_100.hdf5')"
   ]
  },
  {
   "cell_type": "markdown",
   "metadata": {},
   "source": [
    "# Performance"
   ]
  },
  {
   "cell_type": "code",
   "execution_count": 21,
   "metadata": {},
   "outputs": [],
   "source": [
    "def plot_error(train_history):\n",
    "    plt.plot(train_history.history['loss'])\n",
    "    plt.plot(train_history.history['val_loss'])\n",
    "    plt.title('model loss')\n",
    "    plt.ylabel('loss')\n",
    "    plt.xlabel('epoch')\n",
    "    plt.legend(['train', 'validation'], loc='upper right') \n",
    "    plt.show()"
   ]
  },
  {
   "cell_type": "code",
   "execution_count": 22,
   "metadata": {},
   "outputs": [],
   "source": [
    "def plot_acc(train_history):\n",
    "    plt.plot(train_history.history['binary_accuracy'])\n",
    "    plt.plot(train_history.history['val_binary_accuracy'])\n",
    "    plt.title('model acc')\n",
    "    plt.ylabel('acc')\n",
    "    plt.xlabel('epoch')\n",
    "    plt.legend(['train', 'validation'], loc='upper right') \n",
    "    plt.show()"
   ]
  },
  {
   "cell_type": "code",
   "execution_count": 290,
   "metadata": {},
   "outputs": [
    {
     "data": {
      "image/png": "[encoded data removed]",
      "text/plain": [
       "<Figure size 432x288 with 1 Axes>"
      ]
     },
     "metadata": {
      "needs_background": "light"
     },
     "output_type": "display_data"
    }
   ],
   "source": [
    "plot_error(train_history)"
   ]
  },
  {
   "cell_type": "code",
   "execution_count": 291,
   "metadata": {},
   "outputs": [
    {
     "data": {
      "image/png": "[encoded data removed]",
      "text/plain": [
       "<Figure size 432x288 with 1 Axes>"
      ]
     },
     "metadata": {
      "needs_background": "light"
     },
     "output_type": "display_data"
    }
   ],
   "source": [
    "plot_acc(train_history)"
   ]
  },
  {
   "cell_type": "markdown",
   "metadata": {},
   "source": [
    "# Prediction"
   ]
  },
  {
   "cell_type": "code",
   "execution_count": 16,
   "metadata": {},
   "outputs": [],
   "source": [
    "test_predit_arr = model_unet.predict(test_image_arr)"
   ]
  },
  {
   "cell_type": "markdown",
   "metadata": {},
   "source": [
    "# Visualization"
   ]
  },
  {
   "cell_type": "code",
   "execution_count": 176,
   "metadata": {},
   "outputs": [],
   "source": [
    "def show_predict(test_predict,t):\n",
    "    test = copy.deepcopy(test_predict)\n",
    "    test[test>t] = 255\n",
    "    test[test<=t] = 0\n",
    "    return test"
   ]
  },
  {
   "cell_type": "code",
   "execution_count": 177,
   "metadata": {},
   "outputs": [],
   "source": [
    "def show_image(test_image):\n",
    "    test = copy.deepcopy(test_image)\n",
    "    test = test*255\n",
    "    test = np.reshape(test,(256,256))\n",
    "    test = cv2.cvtColor(test.astype(np.float32),cv2.COLOR_GRAY2BGR)\n",
    "    test = test.astype(np.int64)\n",
    "    return test"
   ]
  },
  {
   "cell_type": "code",
   "execution_count": 175,
   "metadata": {},
   "outputs": [],
   "source": [
    "def merge_image(image,predict,mask,t):\n",
    "    img = copy.deepcopy(image)\n",
    "    pred = copy.deepcopy(predict)\n",
    "    ma = copy.deepcopy(mask)\n",
    "    #讓image從 0~1 變 0~255\n",
    "    img = img*255\n",
    "    \n",
    "    # thresholding\n",
    "    pred[pred>t] = 255\n",
    "    pred[pred<=t] = 0\n",
    "    # thresholding\n",
    "    ma[ma>0.5] = 255\n",
    "    ma[ma<=0.5] = 0\n",
    "    \n",
    "    # 等等合併成3通道要用\n",
    "    zero = np.zeros((256,256))\n",
    "    \n",
    "    # (256,256,1) -> (256,256)\n",
    "    img = np.reshape(img,(256,256))\n",
    "    pred = np.reshape(pred,(256,256))\n",
    "    ma = np.reshape(ma,(256,256))\n",
    "    \n",
    "    # img從單通道(256,256)變3通道(256,256,3)\n",
    "    img = cv2.cvtColor(img.astype(np.float32),cv2.COLOR_GRAY2BGR)\n",
    "    img = img.astype(np.int64)\n",
    "    \n",
    "    # 合併 predict mask (紅) 和 ground truth mask (藍)\n",
    "    # cv2.merge([r , g , b])\n",
    "    overlap = cv2.merge([pred.astype(np.float32),zero.astype(np.float32),ma.astype(np.float32)])\n",
    "    overlap = overlap.astype(np.int64)\n",
    "    \n",
    "    #把圖疊在一起\n",
    "    output = cv2.addWeighted(img,0.7,overlap,0.3,0)\n",
    "    return output"
   ]
  },
  {
   "cell_type": "code",
   "execution_count": 178,
   "metadata": {},
   "outputs": [],
   "source": [
    "def dice_coef_test(true,y_pred,threshold):\n",
    "    test = copy.deepcopy(y_pred)\n",
    "    y_true = copy.deepcopy(true)\n",
    "    test = np.reshape(test,(256,256))\n",
    "    y_true = np.reshape(y_true,(256,256))\n",
    "    test[test>threshold] = 1\n",
    "    test[test<=threshold] = 0\n",
    "    intersection = np.sum(test*y_true) * 2.0\n",
    "    dice = intersection / (np.sum(test) + np.sum(y_true))\n",
    "    return dice"
   ]
  },
  {
   "cell_type": "code",
   "execution_count": 179,
   "metadata": {},
   "outputs": [],
   "source": [
    "def visualiztion(image,pred,mask,t):\n",
    "    fig, axs = plt.subplots(1, 4, figsize=(15, 8))\n",
    "    image_3_channel = show_image(image)\n",
    "    image_pred = show_predict(pred,t)\n",
    "    image_mask = show_predict(mask,0.5)\n",
    "    image_merge = merge_image(image,pred,mask,t)\n",
    "    axs[0].set_title(\"X-Ray\")\n",
    "    axs[0].imshow(image_3_channel)\n",
    "\n",
    "    axs[1].set_title(\"Predict\")\n",
    "    axs[1].imshow(image_pred,cmap='gray')\n",
    "\n",
    "    axs[2].set_title(\"Ground truth\")\n",
    "    axs[2].imshow(image_mask,cmap='gray')\n",
    "\n",
    "    axs[3].set_title(\"Merged\")\n",
    "    axs[3].imshow(image_merge)"
   ]
  },
  {
   "cell_type": "code",
   "execution_count": 184,
   "metadata": {},
   "outputs": [
    {
     "name": "stdout",
     "output_type": "stream",
     "text": [
      "dice score : 0.7932690189859477\n"
     ]
    },
    {
     "data": {
      "image/png": "[encoded data removed]",
      "text/plain": [
       "<Figure size 1080x576 with 4 Axes>"
      ]
     },
     "metadata": {
      "needs_background": "light"
     },
     "output_type": "display_data"
    }
   ],
   "source": [
    "rand = 20\n",
    "visualiztion(test_image_arr[rand],test_predit_arr[rand],test_mask_arr[rand],0)\n",
    "print('dice score :',dice_coef_test(test_mask_arr[rand],test_predit_arr[rand],0))"
   ]
  },
  {
   "cell_type": "markdown",
   "metadata": {},
   "source": [
    "# Dice score and threshold selection"
   ]
  },
  {
   "cell_type": "code",
   "execution_count": 115,
   "metadata": {},
   "outputs": [],
   "source": [
    "l = []\n",
    "for item in zip(test_mask_arr,test_predit_arr):\n",
    "    dice = dice_coef_test(item[0],item[1],0.5)\n",
    "    l.append(dice)"
   ]
  },
  {
   "cell_type": "code",
   "execution_count": 116,
   "metadata": {},
   "outputs": [
    {
     "data": {
      "text/plain": [
       "0.6455584687360832"
      ]
     },
     "execution_count": 116,
     "metadata": {},
     "output_type": "execute_result"
    }
   ],
   "source": [
    "np.mean(l)"
   ]
  },
  {
   "cell_type": "code",
   "execution_count": 117,
   "metadata": {},
   "outputs": [],
   "source": [
    "l = []\n",
    "for item in zip(test_mask_arr,test_predit_arr):\n",
    "    dice = dice_coef_test(item[0],item[1],0)\n",
    "    l.append(dice)"
   ]
  },
  {
   "cell_type": "code",
   "execution_count": 118,
   "metadata": {},
   "outputs": [
    {
     "data": {
      "text/plain": [
       "0.7691427012834262"
      ]
     },
     "execution_count": 118,
     "metadata": {},
     "output_type": "execute_result"
    }
   ],
   "source": [
    "np.mean(l)"
   ]
  },
  {
   "cell_type": "code",
   "execution_count": null,
   "metadata": {},
   "outputs": [],
   "source": []
  }
 ],
 "metadata": {
  "kernelspec": {
   "display_name": "Python (ML)",
   "language": "python",
   "name": "ml"
  },
  "language_info": {
   "codemirror_mode": {
    "name": "ipython",
    "version": 3
   },
   "file_extension": ".py",
   "mimetype": "text/x-python",
   "name": "python",
   "nbconvert_exporter": "python",
   "pygments_lexer": "ipython3",
   "version": "3.6.12"
  }
 },
 "nbformat": 4,
 "nbformat_minor": 4
}
